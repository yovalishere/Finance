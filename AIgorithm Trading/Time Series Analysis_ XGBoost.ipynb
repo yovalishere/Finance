{
 "cells": [
  {
   "cell_type": "code",
   "execution_count": null,
   "id": "42928dc3",
   "metadata": {},
   "outputs": [],
   "source": [
    "# XGBoost is a scalable, distributed gradient-boosted decision tree (GBDT) machine learning library"
   ]
  },
  {
   "cell_type": "code",
   "execution_count": null,
   "id": "8a638276",
   "metadata": {},
   "outputs": [],
   "source": [
    "%pip install scikit-learn xgboost"
   ]
  },
  {
   "cell_type": "code",
   "execution_count": 1,
   "id": "d7d5454f",
   "metadata": {},
   "outputs": [],
   "source": [
    "import yfinance as yf\n",
    "import pandas as pd\n",
    "import numpy as np\n",
    "import matplotlib.pyplot as plt\n",
    "%matplotlib inline\n",
    "import seaborn as sns\n",
    "import plotly.graph_objs as go"
   ]
  },
  {
   "cell_type": "code",
   "execution_count": 2,
   "id": "2fc1c0c5",
   "metadata": {},
   "outputs": [
    {
     "name": "stdout",
     "output_type": "stream",
     "text": [
      "[*********************100%***********************]  1 of 1 completed\n"
     ]
    },
    {
     "data": {
      "text/html": [
       "<div>\n",
       "<style scoped>\n",
       "    .dataframe tbody tr th:only-of-type {\n",
       "        vertical-align: middle;\n",
       "    }\n",
       "\n",
       "    .dataframe tbody tr th {\n",
       "        vertical-align: top;\n",
       "    }\n",
       "\n",
       "    .dataframe thead th {\n",
       "        text-align: right;\n",
       "    }\n",
       "</style>\n",
       "<table border=\"1\" class=\"dataframe\">\n",
       "  <thead>\n",
       "    <tr style=\"text-align: right;\">\n",
       "      <th></th>\n",
       "      <th>Close</th>\n",
       "    </tr>\n",
       "    <tr>\n",
       "      <th>Date</th>\n",
       "      <th></th>\n",
       "    </tr>\n",
       "  </thead>\n",
       "  <tbody>\n",
       "    <tr>\n",
       "      <th>2010-12-31</th>\n",
       "      <td>14.793799</td>\n",
       "    </tr>\n",
       "    <tr>\n",
       "      <th>2011-01-03</th>\n",
       "      <td>15.052330</td>\n",
       "    </tr>\n",
       "    <tr>\n",
       "      <th>2011-01-04</th>\n",
       "      <td>14.996788</td>\n",
       "    </tr>\n",
       "    <tr>\n",
       "      <th>2011-01-05</th>\n",
       "      <td>15.169890</td>\n",
       "    </tr>\n",
       "    <tr>\n",
       "      <th>2011-01-06</th>\n",
       "      <td>15.280226</td>\n",
       "    </tr>\n",
       "  </tbody>\n",
       "</table>\n",
       "</div>"
      ],
      "text/plain": [
       "                Close\n",
       "Date                 \n",
       "2010-12-31  14.793799\n",
       "2011-01-03  15.052330\n",
       "2011-01-04  14.996788\n",
       "2011-01-05  15.169890\n",
       "2011-01-06  15.280226"
      ]
     },
     "execution_count": 2,
     "metadata": {},
     "output_type": "execute_result"
    }
   ],
   "source": [
    "# Import Google 10 years closing data\n",
    "his_data = yf.download(\"GOOG\", start=\"2011-01-01\", end=\"2022-1-1\")\n",
    "ten_yr_closing=his_data['Close']\n",
    "df=ten_yr_closing.to_frame()\n",
    "df.head()"
   ]
  },
  {
   "cell_type": "code",
   "execution_count": 3,
   "id": "3179b28f",
   "metadata": {},
   "outputs": [
    {
     "data": {
      "text/html": [
       "<div>\n",
       "<style scoped>\n",
       "    .dataframe tbody tr th:only-of-type {\n",
       "        vertical-align: middle;\n",
       "    }\n",
       "\n",
       "    .dataframe tbody tr th {\n",
       "        vertical-align: top;\n",
       "    }\n",
       "\n",
       "    .dataframe thead th {\n",
       "        text-align: right;\n",
       "    }\n",
       "</style>\n",
       "<table border=\"1\" class=\"dataframe\">\n",
       "  <thead>\n",
       "    <tr style=\"text-align: right;\">\n",
       "      <th></th>\n",
       "      <th>Close</th>\n",
       "      <th>Target</th>\n",
       "    </tr>\n",
       "    <tr>\n",
       "      <th>Date</th>\n",
       "      <th></th>\n",
       "      <th></th>\n",
       "    </tr>\n",
       "  </thead>\n",
       "  <tbody>\n",
       "    <tr>\n",
       "      <th>2010-12-31</th>\n",
       "      <td>14.793799</td>\n",
       "      <td>15.052330</td>\n",
       "    </tr>\n",
       "    <tr>\n",
       "      <th>2011-01-03</th>\n",
       "      <td>15.052330</td>\n",
       "      <td>14.996788</td>\n",
       "    </tr>\n",
       "    <tr>\n",
       "      <th>2011-01-04</th>\n",
       "      <td>14.996788</td>\n",
       "      <td>15.169890</td>\n",
       "    </tr>\n",
       "    <tr>\n",
       "      <th>2011-01-05</th>\n",
       "      <td>15.169890</td>\n",
       "      <td>15.280226</td>\n",
       "    </tr>\n",
       "    <tr>\n",
       "      <th>2011-01-06</th>\n",
       "      <td>15.280226</td>\n",
       "      <td>15.353451</td>\n",
       "    </tr>\n",
       "  </tbody>\n",
       "</table>\n",
       "</div>"
      ],
      "text/plain": [
       "                Close     Target\n",
       "Date                            \n",
       "2010-12-31  14.793799  15.052330\n",
       "2011-01-03  15.052330  14.996788\n",
       "2011-01-04  14.996788  15.169890\n",
       "2011-01-05  15.169890  15.280226\n",
       "2011-01-06  15.280226  15.353451"
      ]
     },
     "execution_count": 3,
     "metadata": {},
     "output_type": "execute_result"
    }
   ],
   "source": [
    "# Create a targeted column with shift 1\n",
    "# As the closing price for the next day is the target for the prediction from up to the current date\n",
    "# X= Close, y=Target\n",
    "df['Target']=df.Close.shift(-1)\n",
    "df.dropna(inplace=True) # Remove the last row of data which target value =Nan\n",
    "df.head()"
   ]
  },
  {
   "cell_type": "markdown",
   "id": "7d73c42a",
   "metadata": {},
   "source": [
    "### Univariate Model with regression (Without hyperparameter tuning)"
   ]
  },
  {
   "cell_type": "code",
   "execution_count": 202,
   "id": "cf5ea94f",
   "metadata": {},
   "outputs": [],
   "source": [
    "def xgb_predict(df_train:pd.DataFrame,df_test:pd.DataFrame) -> float:\n",
    "\n",
    "    '''\n",
    "    Return 1 single prediction from XGBoost\n",
    "    '''\n",
    "\n",
    "    # Split X and y\n",
    "    X_train=df_train.iloc[:,:-1]\n",
    "    y_train=df_train.iloc[:,-1]\n",
    "    X_test=df_test.iloc[:,:-1]\n",
    "    y_test=df_test.iloc[:,-1]\n",
    "    X_test_pred=X_test.iloc[:1,:]\n",
    "\n",
    "\n",
    "    # Model building\n",
    "    from xgboost import XGBRegressor\n",
    "    model=XGBRegressor()\n",
    "    model.fit(X_train,y_train)\n",
    "\n",
    "    # Prediction\n",
    "    pred=model.predict(X_test_pred)\n",
    "    return pred[0]\n",
    "\n",
    "\n",
    "def accu_pred(df:pd.DataFrame,perc_train:float,perc_test:float):\n",
    "\n",
    "    '''\n",
    "    Iterative model building with an accumulated trianing set\n",
    "    ie. The last prediction is based on the model trained by data from the beginning up until the second last data point\n",
    "    '''\n",
    "\n",
    "    # Initialisation\n",
    "    num_train=int(len(df)*perc_train)\n",
    "    num_test=len(df)-num_train\n",
    "    y_test=df.iloc[num_train:,:]\n",
    "\n",
    "    # Loop\n",
    "    prediction=[] # Store the list of prediction\n",
    "    for i in range(num_test): # i=1\n",
    "        accu_Train=df.iloc[:num_train+i,:]\n",
    "        df_test=df.iloc[num_train+i:,:]\n",
    "        pred=xgb_predict(accu_Train,df_test)\n",
    "        prediction.append(pred)\n",
    "    \n",
    "    df_pred = pd.DataFrame(prediction, index =y_test.index,\n",
    "                                              columns =['Pred_Target'])\n",
    "    return df_pred,y_test\n",
    "\n",
    "\n",
    "def evaluation(df_pred,y_test):\n",
    "\n",
    "    '''\n",
    "    Visualisation and evaluation\n",
    "    '''\n",
    "    \n",
    "    from sklearn.metrics import mean_squared_error\n",
    "    import math\n",
    "\n",
    "    fig, ax = plt.subplots()\n",
    "\n",
    "    ax.plot(y_test.Target, label = 'Actual')\n",
    "    ax.plot(df_pred,label = 'Predict')\n",
    "    ax.legend(loc='upper left')\n",
    "    plt.title(\"APPL closing price prediction\")\n",
    "    ax.tick_params(axis='x', labelrotation = 45)\n",
    "    plt.show()\n",
    "\n",
    "    mse=mean_squared_error(y_test['Target'],df_pred)\n",
    "    print(\"MSE: \",mse)\n",
    "    rmse=math.sqrt(mse)\n",
    "    print(\"RMSE: \",rmse)"
   ]
  },
  {
   "cell_type": "markdown",
   "id": "c083d9d2",
   "metadata": {},
   "source": [
    "##### Output"
   ]
  },
  {
   "cell_type": "markdown",
   "id": "4b193575",
   "metadata": {},
   "source": [
    "# 60% of training and 40% of testing is used\n",
    "df_pred,y_test=accu_pred(df,0.6,0.4)\n",
    "evaluation(df_pred,y_test)"
   ]
  },
  {
   "cell_type": "code",
   "execution_count": 199,
   "id": "c998514f",
   "metadata": {},
   "outputs": [],
   "source": [
    "# Iterate through an accumulated trianing set [input=df]\n",
    "def accu_pred(df:pd.DataFrame,perc_train:float,perc_test:float):\n",
    "\n",
    "    # Initialisation\n",
    "    num_train=int(len(df)*perc_train)\n",
    "    num_test=len(df)-num_train\n",
    "    y_test=df.iloc[num_train:,:]\n",
    "\n",
    "    # Loop\n",
    "    prediction=[] # Store the list of prediction\n",
    "    for i in range(num_test): # i=1\n",
    "        accu_Train=df.iloc[:num_train+i,:]\n",
    "        df_test=df.iloc[num_train+i:,:]\n",
    "        pred=xgb_predict(accu_Train,df_test)\n",
    "        prediction.append(pred)\n",
    "    \n",
    "    df_pred = pd.DataFrame(prediction, index =y_test.index,\n",
    "                                              columns =['Pred_Target'])\n",
    "    return df_pred,y_test"
   ]
  },
  {
   "cell_type": "code",
   "execution_count": 200,
   "id": "30930bf9",
   "metadata": {},
   "outputs": [],
   "source": [
    "# Visualisation and evaluation\n",
    "def evaluation(y_test,df_pred):\n",
    "    from sklearn.metrics import mean_squared_error\n",
    "    import math\n",
    "\n",
    "    fig, ax = plt.subplots()\n",
    "\n",
    "    ax.plot(y_test.Target, label = 'Actual')\n",
    "    ax.plot(df_pred,label = 'Predict')\n",
    "    ax.legend(loc='upper left')\n",
    "    plt.title(\"APPL closing price prediction\")\n",
    "    ax.tick_params(axis='x', labelrotation = 45)\n",
    "    plt.show()\n",
    "\n",
    "    mse=mean_squared_error(y_test['Target'],df_pred)\n",
    "    print(\"MSE: \",mse)\n",
    "    rmse=math.sqrt(mse)\n",
    "    print(\"RMSE: \",rmse)"
   ]
  },
  {
   "cell_type": "code",
   "execution_count": 166,
   "id": "7ed7fa70",
   "metadata": {},
   "outputs": [
    {
     "name": "stdout",
     "output_type": "stream",
     "text": [
      "pred 1108\n",
      "y_test 1108\n"
     ]
    },
    {
     "data": {
      "text/html": [
       "<div>\n",
       "<style scoped>\n",
       "    .dataframe tbody tr th:only-of-type {\n",
       "        vertical-align: middle;\n",
       "    }\n",
       "\n",
       "    .dataframe tbody tr th {\n",
       "        vertical-align: top;\n",
       "    }\n",
       "\n",
       "    .dataframe thead th {\n",
       "        text-align: right;\n",
       "    }\n",
       "</style>\n",
       "<table border=\"1\" class=\"dataframe\">\n",
       "  <thead>\n",
       "    <tr style=\"text-align: right;\">\n",
       "      <th></th>\n",
       "      <th>Date</th>\n",
       "    </tr>\n",
       "    <tr>\n",
       "      <th>Date</th>\n",
       "      <th></th>\n",
       "    </tr>\n",
       "  </thead>\n",
       "  <tbody>\n",
       "    <tr>\n",
       "      <th>2017-08-08</th>\n",
       "      <td>46.597031</td>\n",
       "    </tr>\n",
       "    <tr>\n",
       "      <th>2017-08-09</th>\n",
       "      <td>46.392574</td>\n",
       "    </tr>\n",
       "    <tr>\n",
       "      <th>2017-08-10</th>\n",
       "      <td>45.646965</td>\n",
       "    </tr>\n",
       "    <tr>\n",
       "      <th>2017-08-11</th>\n",
       "      <td>45.996170</td>\n",
       "    </tr>\n",
       "    <tr>\n",
       "      <th>2017-08-14</th>\n",
       "      <td>45.806885</td>\n",
       "    </tr>\n",
       "    <tr>\n",
       "      <th>...</th>\n",
       "      <td>...</td>\n",
       "    </tr>\n",
       "    <tr>\n",
       "      <th>2021-12-23</th>\n",
       "      <td>146.782120</td>\n",
       "    </tr>\n",
       "    <tr>\n",
       "      <th>2021-12-27</th>\n",
       "      <td>148.518921</td>\n",
       "    </tr>\n",
       "    <tr>\n",
       "      <th>2021-12-28</th>\n",
       "      <td>146.255722</td>\n",
       "    </tr>\n",
       "    <tr>\n",
       "      <th>2021-12-29</th>\n",
       "      <td>146.524979</td>\n",
       "    </tr>\n",
       "    <tr>\n",
       "      <th>2021-12-30</th>\n",
       "      <td>142.935577</td>\n",
       "    </tr>\n",
       "  </tbody>\n",
       "</table>\n",
       "<p>1108 rows × 1 columns</p>\n",
       "</div>"
      ],
      "text/plain": [
       "                  Date\n",
       "Date                  \n",
       "2017-08-08   46.597031\n",
       "2017-08-09   46.392574\n",
       "2017-08-10   45.646965\n",
       "2017-08-11   45.996170\n",
       "2017-08-14   45.806885\n",
       "...                ...\n",
       "2021-12-23  146.782120\n",
       "2021-12-27  148.518921\n",
       "2021-12-28  146.255722\n",
       "2021-12-29  146.524979\n",
       "2021-12-30  142.935577\n",
       "\n",
       "[1108 rows x 1 columns]"
      ]
     },
     "execution_count": 166,
     "metadata": {},
     "output_type": "execute_result"
    }
   ],
   "source": [
    "prediction,y_test=accu_pred(df,0.6,0.4)"
   ]
  },
  {
   "cell_type": "code",
   "execution_count": 182,
   "id": "f2e6aae5",
   "metadata": {},
   "outputs": [
    {
     "name": "stdout",
     "output_type": "stream",
     "text": [
      "pred 1108\n",
      "y_test 1108\n"
     ]
    },
    {
     "data": {
      "text/html": [
       "<div>\n",
       "<style scoped>\n",
       "    .dataframe tbody tr th:only-of-type {\n",
       "        vertical-align: middle;\n",
       "    }\n",
       "\n",
       "    .dataframe tbody tr th {\n",
       "        vertical-align: top;\n",
       "    }\n",
       "\n",
       "    .dataframe thead th {\n",
       "        text-align: right;\n",
       "    }\n",
       "</style>\n",
       "<table border=\"1\" class=\"dataframe\">\n",
       "  <thead>\n",
       "    <tr style=\"text-align: right;\">\n",
       "      <th></th>\n",
       "      <th>Pred_Target</th>\n",
       "    </tr>\n",
       "    <tr>\n",
       "      <th>Date</th>\n",
       "      <th></th>\n",
       "    </tr>\n",
       "  </thead>\n",
       "  <tbody>\n",
       "    <tr>\n",
       "      <th>2017-08-08</th>\n",
       "      <td>46.597031</td>\n",
       "    </tr>\n",
       "    <tr>\n",
       "      <th>2017-08-09</th>\n",
       "      <td>46.392574</td>\n",
       "    </tr>\n",
       "    <tr>\n",
       "      <th>2017-08-10</th>\n",
       "      <td>45.646965</td>\n",
       "    </tr>\n",
       "    <tr>\n",
       "      <th>2017-08-11</th>\n",
       "      <td>45.996170</td>\n",
       "    </tr>\n",
       "    <tr>\n",
       "      <th>2017-08-14</th>\n",
       "      <td>45.806885</td>\n",
       "    </tr>\n",
       "    <tr>\n",
       "      <th>...</th>\n",
       "      <td>...</td>\n",
       "    </tr>\n",
       "    <tr>\n",
       "      <th>2021-12-23</th>\n",
       "      <td>146.782120</td>\n",
       "    </tr>\n",
       "    <tr>\n",
       "      <th>2021-12-27</th>\n",
       "      <td>148.518921</td>\n",
       "    </tr>\n",
       "    <tr>\n",
       "      <th>2021-12-28</th>\n",
       "      <td>146.255722</td>\n",
       "    </tr>\n",
       "    <tr>\n",
       "      <th>2021-12-29</th>\n",
       "      <td>146.524979</td>\n",
       "    </tr>\n",
       "    <tr>\n",
       "      <th>2021-12-30</th>\n",
       "      <td>142.935577</td>\n",
       "    </tr>\n",
       "  </tbody>\n",
       "</table>\n",
       "<p>1108 rows × 1 columns</p>\n",
       "</div>"
      ],
      "text/plain": [
       "            Pred_Target\n",
       "Date                   \n",
       "2017-08-08    46.597031\n",
       "2017-08-09    46.392574\n",
       "2017-08-10    45.646965\n",
       "2017-08-11    45.996170\n",
       "2017-08-14    45.806885\n",
       "...                 ...\n",
       "2021-12-23   146.782120\n",
       "2021-12-27   148.518921\n",
       "2021-12-28   146.255722\n",
       "2021-12-29   146.524979\n",
       "2021-12-30   142.935577\n",
       "\n",
       "[1108 rows x 1 columns]"
      ]
     },
     "execution_count": 182,
     "metadata": {},
     "output_type": "execute_result"
    }
   ],
   "source": [
    "print('pred',len(prediction))\n",
    "print('y_test',len(y_test))\n",
    "df_pred = pd.DataFrame(prediction, index =y_test.index,\n",
    "                                              columns =['Pred_Target'])\n",
    "df_pred"
   ]
  },
  {
   "cell_type": "code",
   "execution_count": 201,
   "id": "107174ee",
   "metadata": {},
   "outputs": [
    {
     "data": {
      "image/png": "[encoded data removed]",
      "text/plain": [
       "<Figure size 432x288 with 1 Axes>"
      ]
     },
     "metadata": {
      "needs_background": "light"
     },
     "output_type": "display_data"
    },
    {
     "name": "stdout",
     "output_type": "stream",
     "text": [
      "MSE:  2.6969534285173973\n",
      "RMSE:  1.642240368678531\n"
     ]
    }
   ],
   "source": [
    "evaluation(y_test,df_pred)"
   ]
  },
  {
   "cell_type": "code",
   "execution_count": 125,
   "id": "a82061a0",
   "metadata": {},
   "outputs": [],
   "source": [
    "# Iterate through an accumulated trianing set\n",
    "def accu_pred(df_train,df_test):\n",
    "\n",
    "    prediction=[] # Store the list of prediction\n",
    "    accu_Train=df_train  # Accumulated training data; Initialise with df_train\n",
    "    y_test=df_test.iloc[:,-1] # For evaluation\n",
    "\n",
    "    for i in range(len(df_test)):\n",
    "        \n",
    "        df_test=df_test.iloc[i: , :] # Iteratively remove the first row of df_test (start with all df_test)\n",
    "        df_test_first_row=df_test.iloc[0:1,:] # Store the first row \n",
    "        \n",
    "        pred=xgb_predict(accu_Train,df_test)\n",
    "        prediction.append(pred)\n",
    "        accu_Train=pd.concat([accu_Train, df_test_first_row], axis=0)\n",
    "    \n",
    "    return prediction,y_test\n",
    "\n",
    "         \n",
    "    "
   ]
  },
  {
   "cell_type": "code",
   "execution_count": 126,
   "id": "de15a7b7",
   "metadata": {},
   "outputs": [],
   "source": [
    "pred,y_test=accu_pred(train,test)"
   ]
  },
  {
   "cell_type": "code",
   "execution_count": 129,
   "id": "5c0a5978",
   "metadata": {},
   "outputs": [
    {
     "data": {
      "text/plain": [
       "1061"
      ]
     },
     "execution_count": 129,
     "metadata": {},
     "output_type": "execute_result"
    }
   ],
   "source": [
    "len([p for p in pred if p == 'probelmatic'])"
   ]
  },
  {
   "cell_type": "code",
   "execution_count": 122,
   "id": "857a512d",
   "metadata": {},
   "outputs": [
    {
     "data": {
      "text/plain": [
       "1108"
      ]
     },
     "execution_count": 122,
     "metadata": {},
     "output_type": "execute_result"
    }
   ],
   "source": [
    "len(test)\n",
    "len(pred)"
   ]
  },
  {
   "cell_type": "code",
   "execution_count": 131,
   "id": "afe3eee9",
   "metadata": {},
   "outputs": [
    {
     "name": "stdout",
     "output_type": "stream",
     "text": [
      "pred [46.59703, 46.392574, 45.971355, 46.631844, 46.172092, 45.629173, 47.07027, 46.067223, 47.333393, 48.762413, 48.99012, 49.32672, 51.336967, 51.073223, 53.800377, 55.244682, 55.29504, 56.298393, 51.33491, 54.905262, 55.312717, 58.430992, 58.43379, 58.492104, 56.467686, 51.828365, 51.396957, 54.909424, 61.81647, 58.7302, 54.84342, 60.261772, 60.31138, 61.807236, 62.934135, 67.72604, 56.328762, 67.7869, 75.372856, 75.42051, 77.862, 86.95217, 88.2624, 103.013695, 113.03084, 131.7654, 138.94054, 'probelmatic', 'probelmatic', 'probelmatic', 'probelmatic', 'probelmatic', 'probelmatic', 'probelmatic', 'probelmatic', 'probelmatic', 'probelmatic', 'probelmatic', 'probelmatic', 'probelmatic', 'probelmatic', 'probelmatic', 'probelmatic', 'probelmatic', 'probelmatic', 'probelmatic', 'probelmatic', 'probelmatic', 'probelmatic', 'probelmatic', 'probelmatic', 'probelmatic', 'probelmatic', 'probelmatic', 'probelmatic', 'probelmatic', 'probelmatic', 'probelmatic', 'probelmatic', 'probelmatic', 'probelmatic', 'probelmatic', 'probelmatic', 'probelmatic', 'probelmatic', 'probelmatic', 'probelmatic', 'probelmatic', 'probelmatic', 'probelmatic', 'probelmatic', 'probelmatic', 'probelmatic', 'probelmatic', 'probelmatic', 'probelmatic', 'probelmatic', 'probelmatic', 'probelmatic', 'probelmatic', 'probelmatic', 'probelmatic', 'probelmatic', 'probelmatic', 'probelmatic', 'probelmatic', 'probelmatic', 'probelmatic', 'probelmatic', 'probelmatic', 'probelmatic', 'probelmatic', 'probelmatic', 'probelmatic', 'probelmatic', 'probelmatic', 'probelmatic', 'probelmatic', 'probelmatic', 'probelmatic', 'probelmatic', 'probelmatic', 'probelmatic', 'probelmatic', 'probelmatic', 'probelmatic', 'probelmatic', 'probelmatic', 'probelmatic', 'probelmatic', 'probelmatic', 'probelmatic', 'probelmatic', 'probelmatic', 'probelmatic', 'probelmatic', 'probelmatic', 'probelmatic', 'probelmatic', 'probelmatic', 'probelmatic', 'probelmatic', 'probelmatic', 'probelmatic', 'probelmatic', 'probelmatic', 'probelmatic', 'probelmatic', 'probelmatic', 'probelmatic', 'probelmatic', 'probelmatic', 'probelmatic', 'probelmatic', 'probelmatic', 'probelmatic', 'probelmatic', 'probelmatic', 'probelmatic', 'probelmatic', 'probelmatic', 'probelmatic', 'probelmatic', 'probelmatic', 'probelmatic', 'probelmatic', 'probelmatic', 'probelmatic', 'probelmatic', 'probelmatic', 'probelmatic', 'probelmatic', 'probelmatic', 'probelmatic', 'probelmatic', 'probelmatic', 'probelmatic', 'probelmatic', 'probelmatic', 'probelmatic', 'probelmatic', 'probelmatic', 'probelmatic', 'probelmatic', 'probelmatic', 'probelmatic', 'probelmatic', 'probelmatic', 'probelmatic', 'probelmatic', 'probelmatic', 'probelmatic', 'probelmatic', 'probelmatic', 'probelmatic', 'probelmatic', 'probelmatic', 'probelmatic', 'probelmatic', 'probelmatic', 'probelmatic', 'probelmatic', 'probelmatic', 'probelmatic', 'probelmatic', 'probelmatic', 'probelmatic', 'probelmatic', 'probelmatic', 'probelmatic', 'probelmatic', 'probelmatic', 'probelmatic', 'probelmatic', 'probelmatic', 'probelmatic', 'probelmatic', 'probelmatic', 'probelmatic', 'probelmatic', 'probelmatic', 'probelmatic', 'probelmatic', 'probelmatic', 'probelmatic', 'probelmatic', 'probelmatic', 'probelmatic', 'probelmatic', 'probelmatic', 'probelmatic', 'probelmatic', 'probelmatic', 'probelmatic', 'probelmatic', 'probelmatic', 'probelmatic', 'probelmatic', 'probelmatic', 'probelmatic', 'probelmatic', 'probelmatic', 'probelmatic', 'probelmatic', 'probelmatic', 'probelmatic', 'probelmatic', 'probelmatic', 'probelmatic', 'probelmatic', 'probelmatic', 'probelmatic', 'probelmatic', 'probelmatic', 'probelmatic', 'probelmatic', 'probelmatic', 'probelmatic', 'probelmatic', 'probelmatic', 'probelmatic', 'probelmatic', 'probelmatic', 'probelmatic', 'probelmatic', 'probelmatic', 'probelmatic', 'probelmatic', 'probelmatic', 'probelmatic', 'probelmatic', 'probelmatic', 'probelmatic', 'probelmatic', 'probelmatic', 'probelmatic', 'probelmatic', 'probelmatic', 'probelmatic', 'probelmatic', 'probelmatic', 'probelmatic', 'probelmatic', 'probelmatic', 'probelmatic', 'probelmatic', 'probelmatic', 'probelmatic', 'probelmatic', 'probelmatic', 'probelmatic', 'probelmatic', 'probelmatic', 'probelmatic', 'probelmatic', 'probelmatic', 'probelmatic', 'probelmatic', 'probelmatic', 'probelmatic', 'probelmatic', 'probelmatic', 'probelmatic', 'probelmatic', 'probelmatic', 'probelmatic', 'probelmatic', 'probelmatic', 'probelmatic', 'probelmatic', 'probelmatic', 'probelmatic', 'probelmatic', 'probelmatic', 'probelmatic', 'probelmatic', 'probelmatic', 'probelmatic', 'probelmatic', 'probelmatic', 'probelmatic', 'probelmatic', 'probelmatic', 'probelmatic', 'probelmatic', 'probelmatic', 'probelmatic', 'probelmatic', 'probelmatic', 'probelmatic', 'probelmatic', 'probelmatic', 'probelmatic', 'probelmatic', 'probelmatic', 'probelmatic', 'probelmatic', 'probelmatic', 'probelmatic', 'probelmatic', 'probelmatic', 'probelmatic', 'probelmatic', 'probelmatic', 'probelmatic', 'probelmatic', 'probelmatic', 'probelmatic', 'probelmatic', 'probelmatic', 'probelmatic', 'probelmatic', 'probelmatic', 'probelmatic', 'probelmatic', 'probelmatic', 'probelmatic', 'probelmatic', 'probelmatic', 'probelmatic', 'probelmatic', 'probelmatic', 'probelmatic', 'probelmatic', 'probelmatic', 'probelmatic', 'probelmatic', 'probelmatic', 'probelmatic', 'probelmatic', 'probelmatic', 'probelmatic', 'probelmatic', 'probelmatic', 'probelmatic', 'probelmatic', 'probelmatic', 'probelmatic', 'probelmatic', 'probelmatic', 'probelmatic', 'probelmatic', 'probelmatic', 'probelmatic', 'probelmatic', 'probelmatic', 'probelmatic', 'probelmatic', 'probelmatic', 'probelmatic', 'probelmatic', 'probelmatic', 'probelmatic', 'probelmatic', 'probelmatic', 'probelmatic', 'probelmatic', 'probelmatic', 'probelmatic', 'probelmatic', 'probelmatic', 'probelmatic', 'probelmatic', 'probelmatic', 'probelmatic', 'probelmatic', 'probelmatic', 'probelmatic', 'probelmatic', 'probelmatic', 'probelmatic', 'probelmatic', 'probelmatic', 'probelmatic', 'probelmatic', 'probelmatic', 'probelmatic', 'probelmatic', 'probelmatic', 'probelmatic', 'probelmatic', 'probelmatic', 'probelmatic', 'probelmatic', 'probelmatic', 'probelmatic', 'probelmatic', 'probelmatic', 'probelmatic', 'probelmatic', 'probelmatic', 'probelmatic', 'probelmatic', 'probelmatic', 'probelmatic', 'probelmatic', 'probelmatic', 'probelmatic', 'probelmatic', 'probelmatic', 'probelmatic', 'probelmatic', 'probelmatic', 'probelmatic', 'probelmatic', 'probelmatic', 'probelmatic', 'probelmatic', 'probelmatic', 'probelmatic', 'probelmatic', 'probelmatic', 'probelmatic', 'probelmatic', 'probelmatic', 'probelmatic', 'probelmatic', 'probelmatic', 'probelmatic', 'probelmatic', 'probelmatic', 'probelmatic', 'probelmatic', 'probelmatic', 'probelmatic', 'probelmatic', 'probelmatic', 'probelmatic', 'probelmatic', 'probelmatic', 'probelmatic', 'probelmatic', 'probelmatic', 'probelmatic', 'probelmatic', 'probelmatic', 'probelmatic', 'probelmatic', 'probelmatic', 'probelmatic', 'probelmatic', 'probelmatic', 'probelmatic', 'probelmatic', 'probelmatic', 'probelmatic', 'probelmatic', 'probelmatic', 'probelmatic', 'probelmatic', 'probelmatic', 'probelmatic', 'probelmatic', 'probelmatic', 'probelmatic', 'probelmatic', 'probelmatic', 'probelmatic', 'probelmatic', 'probelmatic', 'probelmatic', 'probelmatic', 'probelmatic', 'probelmatic', 'probelmatic', 'probelmatic', 'probelmatic', 'probelmatic', 'probelmatic', 'probelmatic', 'probelmatic', 'probelmatic', 'probelmatic', 'probelmatic', 'probelmatic', 'probelmatic', 'probelmatic', 'probelmatic', 'probelmatic', 'probelmatic', 'probelmatic', 'probelmatic', 'probelmatic', 'probelmatic', 'probelmatic', 'probelmatic', 'probelmatic', 'probelmatic', 'probelmatic', 'probelmatic', 'probelmatic', 'probelmatic', 'probelmatic', 'probelmatic', 'probelmatic', 'probelmatic', 'probelmatic', 'probelmatic', 'probelmatic', 'probelmatic', 'probelmatic', 'probelmatic', 'probelmatic', 'probelmatic', 'probelmatic', 'probelmatic', 'probelmatic', 'probelmatic', 'probelmatic', 'probelmatic', 'probelmatic', 'probelmatic', 'probelmatic', 'probelmatic', 'probelmatic', 'probelmatic', 'probelmatic', 'probelmatic', 'probelmatic', 'probelmatic', 'probelmatic', 'probelmatic', 'probelmatic', 'probelmatic', 'probelmatic', 'probelmatic', 'probelmatic', 'probelmatic', 'probelmatic', 'probelmatic', 'probelmatic', 'probelmatic', 'probelmatic', 'probelmatic', 'probelmatic', 'probelmatic', 'probelmatic', 'probelmatic', 'probelmatic', 'probelmatic', 'probelmatic', 'probelmatic', 'probelmatic', 'probelmatic', 'probelmatic', 'probelmatic', 'probelmatic', 'probelmatic', 'probelmatic', 'probelmatic', 'probelmatic', 'probelmatic', 'probelmatic', 'probelmatic', 'probelmatic', 'probelmatic', 'probelmatic', 'probelmatic', 'probelmatic', 'probelmatic', 'probelmatic', 'probelmatic', 'probelmatic', 'probelmatic', 'probelmatic', 'probelmatic', 'probelmatic', 'probelmatic', 'probelmatic', 'probelmatic', 'probelmatic', 'probelmatic', 'probelmatic', 'probelmatic', 'probelmatic', 'probelmatic', 'probelmatic', 'probelmatic', 'probelmatic', 'probelmatic', 'probelmatic', 'probelmatic', 'probelmatic', 'probelmatic', 'probelmatic', 'probelmatic', 'probelmatic', 'probelmatic', 'probelmatic', 'probelmatic', 'probelmatic', 'probelmatic', 'probelmatic', 'probelmatic', 'probelmatic', 'probelmatic', 'probelmatic', 'probelmatic', 'probelmatic', 'probelmatic', 'probelmatic', 'probelmatic', 'probelmatic', 'probelmatic', 'probelmatic', 'probelmatic', 'probelmatic', 'probelmatic', 'probelmatic', 'probelmatic', 'probelmatic', 'probelmatic', 'probelmatic', 'probelmatic', 'probelmatic', 'probelmatic', 'probelmatic', 'probelmatic', 'probelmatic', 'probelmatic', 'probelmatic', 'probelmatic', 'probelmatic', 'probelmatic', 'probelmatic', 'probelmatic', 'probelmatic', 'probelmatic', 'probelmatic', 'probelmatic', 'probelmatic', 'probelmatic', 'probelmatic', 'probelmatic', 'probelmatic', 'probelmatic', 'probelmatic', 'probelmatic', 'probelmatic', 'probelmatic', 'probelmatic', 'probelmatic', 'probelmatic', 'probelmatic', 'probelmatic', 'probelmatic', 'probelmatic', 'probelmatic', 'probelmatic', 'probelmatic', 'probelmatic', 'probelmatic', 'probelmatic', 'probelmatic', 'probelmatic', 'probelmatic', 'probelmatic', 'probelmatic', 'probelmatic', 'probelmatic', 'probelmatic', 'probelmatic', 'probelmatic', 'probelmatic', 'probelmatic', 'probelmatic', 'probelmatic', 'probelmatic', 'probelmatic', 'probelmatic', 'probelmatic', 'probelmatic', 'probelmatic', 'probelmatic', 'probelmatic', 'probelmatic', 'probelmatic', 'probelmatic', 'probelmatic', 'probelmatic', 'probelmatic', 'probelmatic', 'probelmatic', 'probelmatic', 'probelmatic', 'probelmatic', 'probelmatic', 'probelmatic', 'probelmatic', 'probelmatic', 'probelmatic', 'probelmatic', 'probelmatic', 'probelmatic', 'probelmatic', 'probelmatic', 'probelmatic', 'probelmatic', 'probelmatic', 'probelmatic', 'probelmatic', 'probelmatic', 'probelmatic', 'probelmatic', 'probelmatic', 'probelmatic', 'probelmatic', 'probelmatic', 'probelmatic', 'probelmatic', 'probelmatic', 'probelmatic', 'probelmatic', 'probelmatic', 'probelmatic', 'probelmatic', 'probelmatic', 'probelmatic', 'probelmatic', 'probelmatic', 'probelmatic', 'probelmatic', 'probelmatic', 'probelmatic', 'probelmatic', 'probelmatic', 'probelmatic', 'probelmatic', 'probelmatic', 'probelmatic', 'probelmatic', 'probelmatic', 'probelmatic', 'probelmatic', 'probelmatic', 'probelmatic', 'probelmatic', 'probelmatic', 'probelmatic', 'probelmatic', 'probelmatic', 'probelmatic', 'probelmatic', 'probelmatic', 'probelmatic', 'probelmatic', 'probelmatic', 'probelmatic', 'probelmatic', 'probelmatic', 'probelmatic', 'probelmatic', 'probelmatic', 'probelmatic', 'probelmatic', 'probelmatic', 'probelmatic', 'probelmatic', 'probelmatic', 'probelmatic', 'probelmatic', 'probelmatic', 'probelmatic', 'probelmatic', 'probelmatic', 'probelmatic', 'probelmatic', 'probelmatic', 'probelmatic', 'probelmatic', 'probelmatic', 'probelmatic', 'probelmatic', 'probelmatic', 'probelmatic', 'probelmatic', 'probelmatic', 'probelmatic', 'probelmatic', 'probelmatic', 'probelmatic', 'probelmatic', 'probelmatic', 'probelmatic', 'probelmatic', 'probelmatic', 'probelmatic', 'probelmatic', 'probelmatic', 'probelmatic', 'probelmatic', 'probelmatic', 'probelmatic', 'probelmatic', 'probelmatic', 'probelmatic', 'probelmatic', 'probelmatic', 'probelmatic', 'probelmatic', 'probelmatic', 'probelmatic', 'probelmatic', 'probelmatic', 'probelmatic', 'probelmatic', 'probelmatic', 'probelmatic', 'probelmatic', 'probelmatic', 'probelmatic', 'probelmatic', 'probelmatic', 'probelmatic', 'probelmatic', 'probelmatic', 'probelmatic', 'probelmatic', 'probelmatic', 'probelmatic', 'probelmatic', 'probelmatic', 'probelmatic', 'probelmatic', 'probelmatic', 'probelmatic', 'probelmatic', 'probelmatic', 'probelmatic', 'probelmatic', 'probelmatic', 'probelmatic', 'probelmatic', 'probelmatic', 'probelmatic', 'probelmatic', 'probelmatic', 'probelmatic', 'probelmatic', 'probelmatic', 'probelmatic', 'probelmatic', 'probelmatic', 'probelmatic', 'probelmatic', 'probelmatic', 'probelmatic', 'probelmatic', 'probelmatic', 'probelmatic', 'probelmatic', 'probelmatic', 'probelmatic', 'probelmatic', 'probelmatic', 'probelmatic', 'probelmatic', 'probelmatic', 'probelmatic', 'probelmatic', 'probelmatic', 'probelmatic', 'probelmatic', 'probelmatic', 'probelmatic', 'probelmatic', 'probelmatic', 'probelmatic', 'probelmatic', 'probelmatic', 'probelmatic', 'probelmatic', 'probelmatic', 'probelmatic', 'probelmatic', 'probelmatic', 'probelmatic', 'probelmatic', 'probelmatic', 'probelmatic', 'probelmatic', 'probelmatic', 'probelmatic', 'probelmatic', 'probelmatic', 'probelmatic', 'probelmatic', 'probelmatic', 'probelmatic', 'probelmatic', 'probelmatic', 'probelmatic', 'probelmatic', 'probelmatic', 'probelmatic', 'probelmatic', 'probelmatic', 'probelmatic', 'probelmatic', 'probelmatic', 'probelmatic', 'probelmatic', 'probelmatic', 'probelmatic', 'probelmatic', 'probelmatic', 'probelmatic', 'probelmatic', 'probelmatic', 'probelmatic', 'probelmatic', 'probelmatic', 'probelmatic', 'probelmatic', 'probelmatic', 'probelmatic', 'probelmatic', 'probelmatic', 'probelmatic', 'probelmatic', 'probelmatic', 'probelmatic', 'probelmatic', 'probelmatic', 'probelmatic', 'probelmatic', 'probelmatic', 'probelmatic', 'probelmatic', 'probelmatic', 'probelmatic', 'probelmatic', 'probelmatic', 'probelmatic', 'probelmatic', 'probelmatic', 'probelmatic', 'probelmatic', 'probelmatic', 'probelmatic', 'probelmatic', 'probelmatic', 'probelmatic', 'probelmatic', 'probelmatic', 'probelmatic', 'probelmatic', 'probelmatic', 'probelmatic', 'probelmatic', 'probelmatic', 'probelmatic', 'probelmatic', 'probelmatic', 'probelmatic', 'probelmatic', 'probelmatic', 'probelmatic', 'probelmatic', 'probelmatic', 'probelmatic', 'probelmatic', 'probelmatic', 'probelmatic', 'probelmatic', 'probelmatic', 'probelmatic', 'probelmatic', 'probelmatic', 'probelmatic', 'probelmatic', 'probelmatic', 'probelmatic', 'probelmatic', 'probelmatic', 'probelmatic', 'probelmatic', 'probelmatic', 'probelmatic', 'probelmatic', 'probelmatic', 'probelmatic', 'probelmatic', 'probelmatic', 'probelmatic', 'probelmatic', 'probelmatic', 'probelmatic', 'probelmatic', 'probelmatic', 'probelmatic', 'probelmatic', 'probelmatic', 'probelmatic', 'probelmatic', 'probelmatic', 'probelmatic', 'probelmatic', 'probelmatic', 'probelmatic', 'probelmatic', 'probelmatic', 'probelmatic', 'probelmatic', 'probelmatic', 'probelmatic', 'probelmatic', 'probelmatic', 'probelmatic', 'probelmatic', 'probelmatic', 'probelmatic', 'probelmatic', 'probelmatic', 'probelmatic', 'probelmatic', 'probelmatic', 'probelmatic', 'probelmatic', 'probelmatic', 'probelmatic', 'probelmatic', 'probelmatic', 'probelmatic', 'probelmatic', 'probelmatic', 'probelmatic', 'probelmatic', 'probelmatic', 'probelmatic', 'probelmatic', 'probelmatic', 'probelmatic', 'probelmatic', 'probelmatic', 'probelmatic', 'probelmatic', 'probelmatic', 'probelmatic', 'probelmatic', 'probelmatic', 'probelmatic', 'probelmatic', 'probelmatic', 'probelmatic', 'probelmatic', 'probelmatic', 'probelmatic', 'probelmatic', 'probelmatic', 'probelmatic', 'probelmatic', 'probelmatic', 'probelmatic', 'probelmatic', 'probelmatic', 'probelmatic', 'probelmatic', 'probelmatic', 'probelmatic', 'probelmatic', 'probelmatic', 'probelmatic', 'probelmatic', 'probelmatic', 'probelmatic', 'probelmatic', 'probelmatic']\n",
      "y_test Date\n",
      "2017-08-08     46.145000\n",
      "2017-08-09     45.362000\n",
      "2017-08-10     45.719501\n",
      "2017-08-11     46.133499\n",
      "2017-08-14     46.111000\n",
      "                 ...    \n",
      "2021-12-23    148.063995\n",
      "2021-12-27    146.447998\n",
      "2021-12-28    146.504501\n",
      "2021-12-29    146.002502\n",
      "2021-12-30    144.679504\n",
      "Name: Target, Length: 1108, dtype: float64\n",
      "y_test len 1108\n",
      "diff 553\n",
      "0\n"
     ]
    }
   ],
   "source": [
    "print('pred',pred)\n",
    "print('y_test',y_test)\n",
    "print('y_test len',len(y_test))\n",
    "print('diff',len(train)-len(test))\n",
    "print(len([p for p in pred if p is None]))"
   ]
  },
  {
   "cell_type": "code",
   "execution_count": 96,
   "id": "9a1396be",
   "metadata": {},
   "outputs": [
    {
     "name": "stdout",
     "output_type": "stream",
     "text": [
      "ori                  Close      Target\n",
      "Date                              \n",
      "2017-08-08   46.339500   46.145000\n",
      "2017-08-09   46.145000   45.362000\n",
      "2017-08-10   45.362000   45.719501\n",
      "2017-08-11   45.719501   46.133499\n",
      "2017-08-14   46.133499   46.111000\n",
      "...                ...         ...\n",
      "2021-12-23  147.142502  148.063995\n",
      "2021-12-27  148.063995  146.447998\n",
      "2021-12-28  146.447998  146.504501\n",
      "2021-12-29  146.504501  146.002502\n",
      "2021-12-30  146.002502  144.679504\n",
      "\n",
      "[1108 rows x 2 columns]\n",
      "first               Close  Target\n",
      "Date                       \n",
      "2017-08-08  46.3395  46.145\n",
      "removed                  Close      Target\n",
      "Date                              \n",
      "2017-08-09   46.145000   45.362000\n",
      "2017-08-10   45.362000   45.719501\n",
      "2017-08-11   45.719501   46.133499\n",
      "2017-08-14   46.133499   46.111000\n",
      "2017-08-15   46.111000   46.348000\n",
      "...                ...         ...\n",
      "2021-12-23  147.142502  148.063995\n",
      "2021-12-27  148.063995  146.447998\n",
      "2021-12-28  146.447998  146.504501\n",
      "2021-12-29  146.504501  146.002502\n",
      "2021-12-30  146.002502  144.679504\n",
      "\n",
      "[1107 rows x 2 columns]\n",
      "first_it              Close  Target\n",
      "Date                      \n",
      "2017-08-09  46.145  45.362\n"
     ]
    }
   ],
   "source": [
    "#print(test.iloc[:,:-1].iloc[:1,:])\n",
    "#type(test.iloc[:,:-1])\n",
    "#print(len(test.iloc[1: , :]))\n",
    "# print(len(test))\n",
    "# #print(test.iloc[1: , :].iloc[:,:-1].iloc[:1,:])\n",
    "# print(test.index[0])\n",
    "# print(test.loc(test.index[0]))\n",
    "# print(test.drop(index=test.index[0],axis=0))\n",
    "print('ori', test)\n",
    "print('first',test.iloc[0:1,:])\n",
    "removed=test.iloc[1: , :]\n",
    "print('removed',removed)\n",
    "print('first_it',removed.iloc[0:1,:])"
   ]
  },
  {
   "cell_type": "code",
   "execution_count": 28,
   "id": "5c1c8f0a",
   "metadata": {},
   "outputs": [
    {
     "data": {
      "text/html": [
       "<div>\n",
       "<style scoped>\n",
       "    .dataframe tbody tr th:only-of-type {\n",
       "        vertical-align: middle;\n",
       "    }\n",
       "\n",
       "    .dataframe tbody tr th {\n",
       "        vertical-align: top;\n",
       "    }\n",
       "\n",
       "    .dataframe thead th {\n",
       "        text-align: right;\n",
       "    }\n",
       "</style>\n",
       "<table border=\"1\" class=\"dataframe\">\n",
       "  <thead>\n",
       "    <tr style=\"text-align: right;\">\n",
       "      <th></th>\n",
       "      <th>Close</th>\n",
       "    </tr>\n",
       "    <tr>\n",
       "      <th>Date</th>\n",
       "      <th></th>\n",
       "    </tr>\n",
       "  </thead>\n",
       "  <tbody>\n",
       "    <tr>\n",
       "      <th>2017-08-08</th>\n",
       "      <td>46.3395</td>\n",
       "    </tr>\n",
       "    <tr>\n",
       "      <th>2017-08-09</th>\n",
       "      <td>46.1450</td>\n",
       "    </tr>\n",
       "    <tr>\n",
       "      <th>2017-08-10</th>\n",
       "      <td>45.3620</td>\n",
       "    </tr>\n",
       "  </tbody>\n",
       "</table>\n",
       "</div>"
      ],
      "text/plain": [
       "              Close\n",
       "Date               \n",
       "2017-08-08  46.3395\n",
       "2017-08-09  46.1450\n",
       "2017-08-10  45.3620"
      ]
     },
     "execution_count": 28,
     "metadata": {},
     "output_type": "execute_result"
    }
   ],
   "source": [
    "trial_model=xgb_predict(train,test)\n",
    "trial_model"
   ]
  },
  {
   "cell_type": "code",
   "execution_count": 33,
   "id": "c70e8ef7",
   "metadata": {},
   "outputs": [
    {
     "data": {
      "text/html": [
       "<div>\n",
       "<style scoped>\n",
       "    .dataframe tbody tr th:only-of-type {\n",
       "        vertical-align: middle;\n",
       "    }\n",
       "\n",
       "    .dataframe tbody tr th {\n",
       "        vertical-align: top;\n",
       "    }\n",
       "\n",
       "    .dataframe thead th {\n",
       "        text-align: right;\n",
       "    }\n",
       "</style>\n",
       "<table border=\"1\" class=\"dataframe\">\n",
       "  <thead>\n",
       "    <tr style=\"text-align: right;\">\n",
       "      <th></th>\n",
       "      <th>Close</th>\n",
       "    </tr>\n",
       "    <tr>\n",
       "      <th>Date</th>\n",
       "      <th></th>\n",
       "    </tr>\n",
       "  </thead>\n",
       "  <tbody>\n",
       "    <tr>\n",
       "      <th>2010-12-31</th>\n",
       "      <td>14.793799</td>\n",
       "    </tr>\n",
       "    <tr>\n",
       "      <th>2011-01-03</th>\n",
       "      <td>15.052330</td>\n",
       "    </tr>\n",
       "    <tr>\n",
       "      <th>2011-01-04</th>\n",
       "      <td>14.996788</td>\n",
       "    </tr>\n",
       "    <tr>\n",
       "      <th>2011-01-05</th>\n",
       "      <td>15.169890</td>\n",
       "    </tr>\n",
       "    <tr>\n",
       "      <th>2011-01-06</th>\n",
       "      <td>15.280226</td>\n",
       "    </tr>\n",
       "    <tr>\n",
       "      <th>...</th>\n",
       "      <td>...</td>\n",
       "    </tr>\n",
       "    <tr>\n",
       "      <th>2021-12-23</th>\n",
       "      <td>147.142502</td>\n",
       "    </tr>\n",
       "    <tr>\n",
       "      <th>2021-12-27</th>\n",
       "      <td>148.063995</td>\n",
       "    </tr>\n",
       "    <tr>\n",
       "      <th>2021-12-28</th>\n",
       "      <td>146.447998</td>\n",
       "    </tr>\n",
       "    <tr>\n",
       "      <th>2021-12-29</th>\n",
       "      <td>146.504501</td>\n",
       "    </tr>\n",
       "    <tr>\n",
       "      <th>2021-12-30</th>\n",
       "      <td>146.002502</td>\n",
       "    </tr>\n",
       "  </tbody>\n",
       "</table>\n",
       "<p>2769 rows × 1 columns</p>\n",
       "</div>"
      ],
      "text/plain": [
       "                 Close\n",
       "Date                  \n",
       "2010-12-31   14.793799\n",
       "2011-01-03   15.052330\n",
       "2011-01-04   14.996788\n",
       "2011-01-05   15.169890\n",
       "2011-01-06   15.280226\n",
       "...                ...\n",
       "2021-12-23  147.142502\n",
       "2021-12-27  148.063995\n",
       "2021-12-28  146.447998\n",
       "2021-12-29  146.504501\n",
       "2021-12-30  146.002502\n",
       "\n",
       "[2769 rows x 1 columns]"
      ]
     },
     "execution_count": 33,
     "metadata": {},
     "output_type": "execute_result"
    }
   ],
   "source": [
    "df.iloc[:,:-1]"
   ]
  },
  {
   "cell_type": "markdown",
   "id": "7d73c42a",
   "metadata": {},
   "source": [
    "### Univariate Model with regression (Without hyperparameter tuning)"
   ]
  },
  {
   "cell_type": "code",
   "execution_count": null,
   "id": "dabc7835",
   "metadata": {},
   "outputs": [],
   "source": [
    "# Train Test Split \n",
    "def train_test_split(data:pd.DataFrame,perc_train:float,perc_test:float) :\n",
    "    data=data.values # Turn into np.array, Remove col name\n",
    "    num_train=int(len(data)*perc_train)\n",
    "    num_test=len(data)-num_train\n",
    "    return data[:num_train,:],data[num_train:,:]"
   ]
  },
  {
   "cell_type": "code",
   "execution_count": null,
   "id": "e5a7b1ef",
   "metadata": {},
   "outputs": [],
   "source": [
    "# Model Training with Prediction\n",
    "def uni_model_pred (train_data:np.array, test_x:np.array) -> float: # Univariate model with built in optimisation for regression\n",
    "    \n",
    "    train_X=train_data[:,:-1]\n",
    "    train_y=train_data[:,-1]\n",
    "    from xgboost import XGBRegressor\n",
    "    model=XGBRegressor(objective=\"reg:squarederror\") \n",
    "    model.fit(train_X,train_y) # Optimal model is generated with min requrederror\n",
    "\n",
    "    # Predict\n",
    "    test_x=np.array(test_x).reshape(1,-1)\n",
    "    pred=model.predict(test_x)\n",
    "\n",
    "    return pred[0]\n"
   ]
  },
  {
   "cell_type": "code",
   "execution_count": null,
   "id": "5adc448e",
   "metadata": {},
   "outputs": [],
   "source": [
    "def rolling_validate(train_data:np.array, test_data:np.array):\n",
    "    ''' \n",
    "    This function aims at accumulating training data for each prediction \n",
    "    ie. The last prediction is based on the model trained by data from the beginning up until the second last data point\n",
    "    '''\n",
    "    prediction=[] \n",
    "    rolling_data=[x for x in train_data]\n",
    "    \n",
    "    for i in range(len(test_data)):\n",
    "        pred=uni_model_pred (rolling_data, test_data[i][0]) \n",
    "        prediction.append(pred)\n",
    "        rolling_data.append(test_data[i])\n",
    "    \n",
    "    #Evaluate\n",
    "    from sklearn.metrics import mean_absolute_error\n",
    "    print('test_data',test_data)\n",
    "    mse=mean_absolute_error(test_data[:,-1],prediction)\n",
    "\n",
    "    return mse,test_data[:,-1],prediction"
   ]
  },
  {
   "cell_type": "code",
   "execution_count": 127,
   "id": "dabc7835",
   "metadata": {},
   "outputs": [],
   "source": [
    "# Train Test Split \n",
    "def train_test_split(data:pd.DataFrame,perc_train:float,perc_test:float) :\n",
    "    data=data.values # Turn into np.array, Remove col name\n",
    "    num_train=int(len(data)*perc_train)\n",
    "    num_test=len(data)-num_train\n",
    "    return data[:num_train,:],data[num_train:,:]"
   ]
  },
  {
   "cell_type": "code",
   "execution_count": 128,
   "id": "e5a7b1ef",
   "metadata": {},
   "outputs": [],
   "source": [
    "# Model Training with Prediction\n",
    "def uni_model_pred (train_data:np.array, test_x:np.array) -> float: # Univariate model with built in optimisation for regression\n",
    "    \n",
    "    train_X=train_data[:,:-1]\n",
    "    train_y=train_data[:,-1]\n",
    "    from xgboost import XGBRegressor\n",
    "    model=XGBRegressor(objective=\"reg:squarederror\") \n",
    "    model.fit(train_X,train_y) # Optimal model is generated with min requrederror\n",
    "\n",
    "    # Predict\n",
    "    test_x=np.array(test_x).reshape(1,-1)\n",
    "    pred=model.predict(test_x)\n",
    "\n",
    "    return pred[0]\n"
   ]
  },
  {
   "cell_type": "code",
   "execution_count": 133,
   "id": "5adc448e",
   "metadata": {},
   "outputs": [],
   "source": [
    "def rolling_validate(train_data:np.array, test_data:np.array):\n",
    "    ''' \n",
    "    This function aims at accumulating training data for each prediction \n",
    "    ie. The last prediction is based on the model trained by data from the beginning up until the second last data point\n",
    "    '''\n",
    "    prediction=[] \n",
    "    rolling_data=[x for x in train_data]\n",
    "    \n",
    "    for i in range(len(test_data)):\n",
    "        pred=uni_model_pred (rolling_data, test_data[i][0]) \n",
    "        prediction.append(pred)\n",
    "        rolling_data.append(test_data[i])\n",
    "    \n",
    "    #Evaluate\n",
    "    from sklearn.metrics import mean_absolute_error\n",
    "    print('test_data',test_data)\n",
    "    mse=mean_absolute_error(test_data[:,-1],prediction)\n",
    "\n",
    "    return mse,test_data[:,-1],prediction"
   ]
  },
  {
   "cell_type": "markdown",
   "id": "19af9a4c",
   "metadata": {},
   "source": [
    "### Multivariate (With hyperparameter tunning)"
   ]
  },
  {
   "cell_type": "code",
   "execution_count": null,
   "id": "6ceb535b",
   "metadata": {},
   "outputs": [],
   "source": [
    "# Train Validation Test Split [!!! np.array]\n",
    "def train_valid_test_split(data,perc_train,perc_valid,perc_test):\n",
    "    num_train=int(len(data)*perc_train)\n",
    "    num_valid=int(len(data)*perc_valid)\n",
    "    num_test=len(data)-num_train-num_valid\n",
    "    return data.iloc[:num_train,:],data.iloc[num_train:num_train+num_valid,:],data.iloc[num_train+num_valid:,:]"
   ]
  },
  {
   "cell_type": "code",
   "execution_count": null,
   "id": "86900c03",
   "metadata": {},
   "outputs": [],
   "source": []
  }
 ],
 "metadata": {
  "kernelspec": {
   "display_name": "Python 3.8.8 ('base')",
   "language": "python",
   "name": "python3"
  },
  "language_info": {
   "codemirror_mode": {
    "name": "ipython",
    "version": 3
   },
   "file_extension": ".py",
   "mimetype": "text/x-python",
   "name": "python",
   "nbconvert_exporter": "python",
   "pygments_lexer": "ipython3",
   "version": "3.8.8"
  },
  "vscode": {
   "interpreter": {
    "hash": "f08154012ddadd8e950e6e9e035c7a7b32c136e7647e9b7c77e02eb723a8bedb"
   }
  }
 },
 "nbformat": 4,
 "nbformat_minor": 5
}
