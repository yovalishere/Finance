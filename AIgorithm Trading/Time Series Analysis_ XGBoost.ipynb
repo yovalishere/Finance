{
 "cells": [
  {
   "cell_type": "code",
   "execution_count": null,
   "id": "42928dc3",
   "metadata": {},
   "outputs": [],
   "source": [
    "# XGBoost is a scalable, distributed gradient-boosted decision tree (GBDT) machine learning library"
   ]
  },
  {
   "cell_type": "code",
   "execution_count": null,
   "id": "8a638276",
   "metadata": {},
   "outputs": [],
   "source": [
    "%pip install scikit-learn xgboost"
   ]
  },
  {
   "cell_type": "code",
   "execution_count": 121,
   "id": "d7d5454f",
   "metadata": {},
   "outputs": [],
   "source": [
    "import yfinance as yf\n",
    "import pandas as pd\n",
    "import numpy as np\n",
    "import matplotlib.pyplot as plt\n",
    "%matplotlib inline\n",
    "import seaborn as sns\n",
    "import plotly.graph_objs as go"
   ]
  },
  {
   "cell_type": "code",
   "execution_count": 124,
   "id": "2fc1c0c5",
   "metadata": {},
   "outputs": [
    {
     "name": "stdout",
     "output_type": "stream",
     "text": [
      "[*********************100%***********************]  1 of 1 completed\n"
     ]
    },
    {
     "data": {
      "text/html": [
       "<div>\n",
       "<style scoped>\n",
       "    .dataframe tbody tr th:only-of-type {\n",
       "        vertical-align: middle;\n",
       "    }\n",
       "\n",
       "    .dataframe tbody tr th {\n",
       "        vertical-align: top;\n",
       "    }\n",
       "\n",
       "    .dataframe thead th {\n",
       "        text-align: right;\n",
       "    }\n",
       "</style>\n",
       "<table border=\"1\" class=\"dataframe\">\n",
       "  <thead>\n",
       "    <tr style=\"text-align: right;\">\n",
       "      <th></th>\n",
       "      <th>Close</th>\n",
       "    </tr>\n",
       "    <tr>\n",
       "      <th>Date</th>\n",
       "      <th></th>\n",
       "    </tr>\n",
       "  </thead>\n",
       "  <tbody>\n",
       "    <tr>\n",
       "      <th>2010-12-31</th>\n",
       "      <td>14.793799</td>\n",
       "    </tr>\n",
       "    <tr>\n",
       "      <th>2011-01-03</th>\n",
       "      <td>15.052330</td>\n",
       "    </tr>\n",
       "    <tr>\n",
       "      <th>2011-01-04</th>\n",
       "      <td>14.996788</td>\n",
       "    </tr>\n",
       "    <tr>\n",
       "      <th>2011-01-05</th>\n",
       "      <td>15.169890</td>\n",
       "    </tr>\n",
       "    <tr>\n",
       "      <th>2011-01-06</th>\n",
       "      <td>15.280226</td>\n",
       "    </tr>\n",
       "  </tbody>\n",
       "</table>\n",
       "</div>"
      ],
      "text/plain": [
       "                Close\n",
       "Date                 \n",
       "2010-12-31  14.793799\n",
       "2011-01-03  15.052330\n",
       "2011-01-04  14.996788\n",
       "2011-01-05  15.169890\n",
       "2011-01-06  15.280226"
      ]
     },
     "execution_count": 124,
     "metadata": {},
     "output_type": "execute_result"
    }
   ],
   "source": [
    "# Import Google 10 years closing data\n",
    "his_data = yf.download(\"GOOG\", start=\"2011-01-01\", end=\"2022-1-1\")\n",
    "ten_yr_closing=his_data['Close']\n",
    "df=ten_yr_closing.to_frame()\n",
    "df.head()"
   ]
  },
  {
   "cell_type": "code",
   "execution_count": 126,
   "id": "3179b28f",
   "metadata": {},
   "outputs": [
    {
     "data": {
      "text/html": [
       "<div>\n",
       "<style scoped>\n",
       "    .dataframe tbody tr th:only-of-type {\n",
       "        vertical-align: middle;\n",
       "    }\n",
       "\n",
       "    .dataframe tbody tr th {\n",
       "        vertical-align: top;\n",
       "    }\n",
       "\n",
       "    .dataframe thead th {\n",
       "        text-align: right;\n",
       "    }\n",
       "</style>\n",
       "<table border=\"1\" class=\"dataframe\">\n",
       "  <thead>\n",
       "    <tr style=\"text-align: right;\">\n",
       "      <th></th>\n",
       "      <th>Close</th>\n",
       "      <th>Target</th>\n",
       "    </tr>\n",
       "    <tr>\n",
       "      <th>Date</th>\n",
       "      <th></th>\n",
       "      <th></th>\n",
       "    </tr>\n",
       "  </thead>\n",
       "  <tbody>\n",
       "    <tr>\n",
       "      <th>2010-12-31</th>\n",
       "      <td>14.793799</td>\n",
       "      <td>15.052330</td>\n",
       "    </tr>\n",
       "    <tr>\n",
       "      <th>2011-01-03</th>\n",
       "      <td>15.052330</td>\n",
       "      <td>14.996788</td>\n",
       "    </tr>\n",
       "    <tr>\n",
       "      <th>2011-01-04</th>\n",
       "      <td>14.996788</td>\n",
       "      <td>15.169890</td>\n",
       "    </tr>\n",
       "    <tr>\n",
       "      <th>2011-01-05</th>\n",
       "      <td>15.169890</td>\n",
       "      <td>15.280226</td>\n",
       "    </tr>\n",
       "    <tr>\n",
       "      <th>2011-01-06</th>\n",
       "      <td>15.280226</td>\n",
       "      <td>15.353451</td>\n",
       "    </tr>\n",
       "  </tbody>\n",
       "</table>\n",
       "</div>"
      ],
      "text/plain": [
       "                Close     Target\n",
       "Date                            \n",
       "2010-12-31  14.793799  15.052330\n",
       "2011-01-03  15.052330  14.996788\n",
       "2011-01-04  14.996788  15.169890\n",
       "2011-01-05  15.169890  15.280226\n",
       "2011-01-06  15.280226  15.353451"
      ]
     },
     "execution_count": 126,
     "metadata": {},
     "output_type": "execute_result"
    }
   ],
   "source": [
    "# Create a targeted column with shift 1\n",
    "# As the closing price for the next day is the target for the prediction from up to the current date\n",
    "# X= Close, y=Target\n",
    "df['Target']=df.Close.shift(-1)\n",
    "df.dropna(inplace=True) # Remove the last row of data which target value =Nan\n",
    "df.head()"
   ]
  },
  {
   "cell_type": "markdown",
   "id": "7d73c42a",
   "metadata": {},
   "source": [
    "### Univariate Model with regression (Without hyperparameter tuning)"
   ]
  },
  {
   "cell_type": "code",
   "execution_count": 127,
   "id": "dabc7835",
   "metadata": {},
   "outputs": [],
   "source": [
    "# Train Test Split \n",
    "def train_test_split(data:pd.DataFrame,perc_train:float,perc_test:float) -> (np.array, np.array):\n",
    "    data=data.values # Turn into np.array, Remove col name\n",
    "    num_train=int(len(data)*perc_train)\n",
    "    num_test=len(data)-num_train\n",
    "    return data[:num_train,:],data[num_train:,:]"
   ]
  },
  {
   "cell_type": "code",
   "execution_count": 128,
   "id": "e5a7b1ef",
   "metadata": {},
   "outputs": [],
   "source": [
    "# Model Training with Prediction\n",
    "def uni_model_pred (train_data:np.array, test_x:np.array) -> float: # Univariate model with built in optimisation for regression\n",
    "    \n",
    "    train_X=train_data[:,:-1]\n",
    "    train_y=train_data[:,-1]\n",
    "    from xgboost import XGBRegressor\n",
    "    model=XGBRegressor(objective=\"reg:squarederror\") \n",
    "    model.fit(train_X,train_y) # Optimal model is generated with min requrederror\n",
    "\n",
    "    # Predict\n",
    "    test_x=np.array(test_x).reshape(1,-1)\n",
    "\n",
    "    return pred[0]\n"
   ]
  },
  {
   "cell_type": "code",
   "execution_count": 133,
   "id": "5adc448e",
   "metadata": {},
   "outputs": [],
   "source": [
    "def rolling_validate(train_data:np.array, test_data:np.array):\n",
    "    ''' \n",
    "    This function aims at accumulating training data for each prediction \n",
    "    ie. The last prediction is based on the model trained by data from the beginning up until the second last data point\n",
    "    '''\n",
    "    prediction=[] \n",
    "    rolling_data=[x for x in train_data]\n",
    "    \n",
    "    for i in range(len(test_data)):\n",
    "        pred=uni_model_pred (rolling_data, test_data[i][0]) \n",
    "        prediction.append(pred)\n",
    "        rolling_data.append(test_data[i])\n",
    "    \n",
    "    #Evaluate\n",
    "    from sklearn.metrics import mean_absolute_error\n",
    "    print('test_data',test_data)\n",
    "    mse=mean_absolute_error(test_data[:,-1],prediction)\n",
    "\n",
    "    return mse,test_data[:,-1],prediction"
   ]
  },
  {
   "cell_type": "markdown",
   "id": "19af9a4c",
   "metadata": {},
   "source": [
    "### Multivariate (With hyperparameter tunning)"
   ]
  },
  {
   "cell_type": "code",
   "execution_count": null,
   "id": "6ceb535b",
   "metadata": {},
   "outputs": [],
   "source": [
    "# Train Validation Test Split [!!! np.array]\n",
    "def train_valid_test_split(data,perc_train,perc_valid,perc_test):\n",
    "    num_train=int(len(data)*perc_train)\n",
    "    num_valid=int(len(data)*perc_valid)\n",
    "    num_test=len(data)-num_train-num_valid\n",
    "    return data.iloc[:num_train,:],data.iloc[num_train:num_train+num_valid,:],data.iloc[num_train+num_valid:,:]"
   ]
  },
  {
   "cell_type": "code",
   "execution_count": null,
   "id": "86900c03",
   "metadata": {},
   "outputs": [],
   "source": []
  }
 ],
 "metadata": {
  "kernelspec": {
   "display_name": "Python 3.8.8 ('base')",
   "language": "python",
   "name": "python3"
  },
  "language_info": {
   "codemirror_mode": {
    "name": "ipython",
    "version": 3
   },
   "file_extension": ".py",
   "mimetype": "text/x-python",
   "name": "python",
   "nbconvert_exporter": "python",
   "pygments_lexer": "ipython3",
   "version": "3.8.8"
  },
  "vscode": {
   "interpreter": {
    "hash": "f08154012ddadd8e950e6e9e035c7a7b32c136e7647e9b7c77e02eb723a8bedb"
   }
  }
 },
 "nbformat": 4,
 "nbformat_minor": 5
}
